{
  "nbformat": 4,
  "nbformat_minor": 0,
  "metadata": {
    "colab": {
      "provenance": [],
      "authorship_tag": "ABX9TyM2+v7yrCN39GltbOu4Ek7O",
      "include_colab_link": true
    },
    "kernelspec": {
      "name": "python3",
      "display_name": "Python 3"
    },
    "language_info": {
      "name": "python"
    }
  },
  "cells": [
    {
      "cell_type": "markdown",
      "metadata": {
        "id": "view-in-github",
        "colab_type": "text"
      },
      "source": [
        "<a href=\"https://colab.research.google.com/github/naterattner/data71200/blob/master/project_1/data71200_summer24_project1.ipynb\" target=\"_parent\"><img src=\"https://colab.research.google.com/assets/colab-badge.svg\" alt=\"Open In Colab\"/></a>"
      ]
    },
    {
      "cell_type": "markdown",
      "source": [
        "Python notebook for assignment 1: https://bbhosted.cuny.edu/webapps/assignment/uploadAssignment?content_id=_85452921_1&course_id=_2383576_1&group_id=&mode=view\n",
        "\n",
        "The goal for this assignment is to create a usable dataset from an open-source data collection. This dataset will be used for a supervised classification task in Project 2 and an unsupervised learning task in Project 3."
      ],
      "metadata": {
        "id": "NqJz4Qeq370m"
      }
    },
    {
      "cell_type": "markdown",
      "source": [
        "### Step 1: Find and download a dataset"
      ],
      "metadata": {
        "id": "srFbe0KP4JK9"
      }
    },
    {
      "cell_type": "markdown",
      "source": [
        "### Step 2: Divide into a training set and a testing set"
      ],
      "metadata": {
        "id": "1suP6krR4Zo7"
      }
    },
    {
      "cell_type": "markdown",
      "source": [
        "### Step 3: Explore your training set"
      ],
      "metadata": {
        "id": "UuSkb5BX4eWx"
      }
    },
    {
      "cell_type": "markdown",
      "source": [
        "### Step 4: Data cleaning"
      ],
      "metadata": {
        "id": "n_26lY2g4eSO"
      }
    },
    {
      "cell_type": "markdown",
      "source": [
        "### Step 5: Visualize the data in your training set"
      ],
      "metadata": {
        "id": "NlHtjOG64eNa"
      }
    },
    {
      "cell_type": "markdown",
      "source": [
        "### Step 6: Apply transformations to your data"
      ],
      "metadata": {
        "id": "NUU4EdGo4eEM"
      }
    }
  ]
}