{
  "nbformat": 4,
  "nbformat_minor": 0,
  "metadata": {
    "colab": {
      "provenance": [],
      "authorship_tag": "ABX9TyPuXp0WzDNOGZ0zBsnMk3TY",
      "include_colab_link": true
    },
    "kernelspec": {
      "name": "python3",
      "display_name": "Python 3"
    },
    "language_info": {
      "name": "python"
    }
  },
  "cells": [
    {
      "cell_type": "markdown",
      "metadata": {
        "id": "view-in-github",
        "colab_type": "text"
      },
      "source": [
        "<a href=\"https://colab.research.google.com/github/naterattner/data71200/blob/master/project_2/data71200_summer24_project2.ipynb\" target=\"_parent\"><img src=\"https://colab.research.google.com/assets/colab-badge.svg\" alt=\"Open In Colab\"/></a>"
      ]
    },
    {
      "cell_type": "markdown",
      "source": [
        "Python notebook for project 2: LINK TK\n",
        "\n",
        "The goal for this assignment is to apply different types of supervised learning algorithms with a range of parameter settings to your data and to observe which performs better."
      ],
      "metadata": {
        "id": "7CCIsQqj2QNR"
      }
    },
    {
      "cell_type": "code",
      "execution_count": null,
      "metadata": {
        "id": "R-AzGxTMepbT"
      },
      "outputs": [],
      "source": [
        "import numpy as np\n",
        "import pandas as pd\n",
        "from pandas.plotting import scatter_matrix\n",
        "\n",
        "!pip install -U scikit-learn==1.4\n",
        "!pip install mglearn\n",
        "import mglearn"
      ]
    },
    {
      "cell_type": "markdown",
      "source": [
        "### Step 1: Load your data, including testing/training split from Project 1."
      ],
      "metadata": {
        "id": "sf0XDnUn2l8i"
      }
    },
    {
      "cell_type": "code",
      "source": [
        "!pip install ucimlrepo\n",
        "from ucimlrepo import fetch_ucirepo\n",
        "\n",
        "# fetch dataset\n",
        "estimation_of_obesity_levels_based_on_eating_habits_and_physical_condition = fetch_ucirepo(id=544)\n",
        "\n",
        "# data (as pandas dataframes)\n",
        "X = estimation_of_obesity_levels_based_on_eating_habits_and_physical_condition.data.features\n",
        "y = estimation_of_obesity_levels_based_on_eating_habits_and_physical_condition.data.targets\n",
        "\n",
        "# metadata\n",
        "print(estimation_of_obesity_levels_based_on_eating_habits_and_physical_condition.metadata)\n",
        "\n",
        "# variable information\n",
        "print(estimation_of_obesity_levels_based_on_eating_habits_and_physical_condition.variables)"
      ],
      "metadata": {
        "id": "J_rEsGE2e8Yt"
      },
      "execution_count": null,
      "outputs": []
    },
    {
      "cell_type": "markdown",
      "source": [
        "### Step 2: (If not already done in Project 1) Prepare your data\n",
        "Because the dataset contains categorical variables, I will apply one-hot encoding before training machine-learning models on it."
      ],
      "metadata": {
        "id": "g1NJy6-f2sPC"
      }
    },
    {
      "cell_type": "code",
      "source": [],
      "metadata": {
        "id": "V9_DQsc224S0"
      },
      "execution_count": null,
      "outputs": []
    },
    {
      "cell_type": "markdown",
      "source": [
        "### Step 3: Examine your target attribute"
      ],
      "metadata": {
        "id": "_JY3Qbci244L"
      }
    },
    {
      "cell_type": "code",
      "source": [],
      "metadata": {
        "id": "R5_kXjPG2_dM"
      },
      "execution_count": null,
      "outputs": []
    },
    {
      "cell_type": "markdown",
      "source": [
        "### Steps 4 and 5: Two supervised learning algorithms"
      ],
      "metadata": {
        "id": "sKnBBIiQ2_1G"
      }
    },
    {
      "cell_type": "markdown",
      "source": [
        "#### 1. K-nearest neighbors\n",
        "Calculate precision, recall, and F1"
      ],
      "metadata": {
        "id": "TwHrHezT8qsH"
      }
    },
    {
      "cell_type": "markdown",
      "source": [
        "Run with the default parameters using cross-validation on the whole dataset"
      ],
      "metadata": {
        "id": "543fRVP-9Hex"
      }
    },
    {
      "cell_type": "markdown",
      "source": [
        "Adjust 2-3 parameters using grid search. Report evaluation metrics for the best and worst-performing parameter settings.\n"
      ],
      "metadata": {
        "id": "un0kAS4B9KYR"
      }
    },
    {
      "cell_type": "markdown",
      "source": [
        "#### 2. Random forest"
      ],
      "metadata": {
        "id": "hRdiTZoy8_1g"
      }
    }
  ]
}